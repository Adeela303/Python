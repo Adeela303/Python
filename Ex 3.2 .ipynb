{
 "cells": [
  {
   "cell_type": "code",
   "execution_count": null,
   "metadata": {},
   "outputs": [],
   "source": [
    "names=['hina','rida','huma']\n",
    "message= \"Hello,\" + names[0].title()+\"!\"\n",
    "print(message)\n",
    "message= \"Hello,\" + names[1].title()+\"!\"\n",
    "print(message)\n",
    "message= \"Hello,\" + names[2].title()+\"!\"\n",
    "print(message)"
   ]
  }
 ],
 "metadata": {
  "interpreter": {
   "hash": "b89b5cfaba6639976dc87ff2fec6d58faec662063367e2c229c520fe71072417"
  },
  "kernelspec": {
   "display_name": "Python 3.10.4 64-bit",
   "language": "python",
   "name": "python3"
  },
  "language_info": {
   "name": "python",
   "version": "3.10.4"
  },
  "orig_nbformat": 4
 },
 "nbformat": 4,
 "nbformat_minor": 2
}
