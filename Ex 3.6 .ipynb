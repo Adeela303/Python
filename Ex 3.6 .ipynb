{
 "cells": [
  {
   "cell_type": "code",
   "execution_count": null,
   "metadata": {},
   "outputs": [],
   "source": [
    "guests = ['hina', 'rida', 'huma']\n",
    "\n",
    "name = guests[0].title()\n",
    "print(name + \", please come to dinner.\")\n",
    "\n",
    "name = guests[1].title()\n",
    "print(name + \", please come to dinner.\")\n",
    "\n",
    "name = guests[2].title()\n",
    "print(name + \", please come to dinner.\")\n",
    "\n",
    "name = guests[1].title()\n",
    "print(\"\\nSorry, \" + name + \" can't make it to dinner.\")\n",
    "\n",
    "# rida can't make it! Let's invite ali instead.\n",
    "del(guests[1])\n",
    "guests.insert(1, 'ali')\n",
    "\n",
    "# Print the invitations again.\n",
    "name = guests[0].title()\n",
    "print(\"\\n\" + name + \", please come to dinner.\")\n",
    "\n",
    "name = guests[1].title()\n",
    "print(name + \", please come to dinner.\")\n",
    "\n",
    "name = guests[2].title()\n",
    "print(name + \", please come to dinner.\")\n",
    "\n",
    "# We got a bigger table, so let's add some more people to the list.\n",
    "print(\"\\nWe got a bigger table!\")\n",
    "guests.insert(0, 'ayesha')\n",
    "guests.insert(2, 'mehwish')\n",
    "guests.append('seher')\n",
    "\n",
    "name = guests[0].title()\n",
    "print(name + \", please come to dinner.\")\n",
    "\n",
    "name = guests[1].title()\n",
    "print(name + \", please come to dinner.\")\n",
    "\n",
    "name = guests[2].title()\n",
    "print(name + \", please come to dinner.\")\n",
    "\n",
    "name = guests[3].title()\n",
    "print(name + \", please come to dinner.\")\n",
    "\n",
    "name = guests[4].title()\n",
    "print(name + \", please come to dinner.\")\n",
    "\n",
    "name = guests[5].title()\n",
    "print(name + \", please come to dinner.\")"
   ]
  }
 ],
 "metadata": {
  "interpreter": {
   "hash": "b89b5cfaba6639976dc87ff2fec6d58faec662063367e2c229c520fe71072417"
  },
  "kernelspec": {
   "display_name": "Python 3.10.4 64-bit",
   "language": "python",
   "name": "python3"
  },
  "language_info": {
   "name": "python",
   "version": "3.10.4"
  },
  "orig_nbformat": 4
 },
 "nbformat": 4,
 "nbformat_minor": 2
}
