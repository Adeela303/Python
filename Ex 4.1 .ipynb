{
 "cells": [
  {
   "cell_type": "code",
   "execution_count": 1,
   "metadata": {},
   "outputs": [
    {
     "name": "stdout",
     "output_type": "stream",
     "text": [
      "pepperoni\n",
      "tikka\n",
      "veggie\n",
      "\n",
      "\n",
      "I really love pepperoni pizza!\n",
      "I really love tikka pizza!\n",
      "I really love veggie pizza!\n",
      "\n",
      "I really love pizza!\n"
     ]
    }
   ],
   "source": [
    "fav_pizzas = ['pepperoni', 'tikka', 'veggie']\n",
    "\n",
    "# Print the names of all the pizzas.\n",
    "for pizza in fav_pizzas:\n",
    "    print(pizza)\n",
    "\n",
    "print(\"\\n\")\n",
    "\n",
    "# Print a sentence about each pizza.\n",
    "for pizza in fav_pizzas:\n",
    "    print(\"I really love \" + pizza + \" pizza!\")\n",
    "\n",
    "print(\"\\nI really love pizza!\")"
   ]
  },
  {
   "cell_type": "code",
   "execution_count": null,
   "metadata": {},
   "outputs": [],
   "source": []
  }
 ],
 "metadata": {
  "interpreter": {
   "hash": "b89b5cfaba6639976dc87ff2fec6d58faec662063367e2c229c520fe71072417"
  },
  "kernelspec": {
   "display_name": "Python 3.10.4 64-bit",
   "language": "python",
   "name": "python3"
  },
  "language_info": {
   "codemirror_mode": {
    "name": "ipython",
    "version": 3
   },
   "file_extension": ".py",
   "mimetype": "text/x-python",
   "name": "python",
   "nbconvert_exporter": "python",
   "pygments_lexer": "ipython3",
   "version": "3.10.4"
  },
  "orig_nbformat": 4
 },
 "nbformat": 4,
 "nbformat_minor": 2
}
